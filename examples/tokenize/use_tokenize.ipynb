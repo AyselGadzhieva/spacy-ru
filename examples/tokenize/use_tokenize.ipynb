{
 "cells": [
  {
   "cell_type": "markdown",
   "metadata": {},
   "source": [
    "## Скачиваем данные"
   ]
  },
  {
   "cell_type": "markdown",
   "metadata": {
    "colab": {
     "autoexec": {
      "startup": false,
      "wait_interval": 0
     },
     "base_uri": "https://localhost:8080/",
     "height": 34
    },
    "colab_type": "code",
    "executionInfo": {
     "elapsed": 18960,
     "status": "ok",
     "timestamp": 1531741939498,
     "user": {
      "displayName": "Anton Mushin",
      "photoUrl": "//lh4.googleusercontent.com/-CFqPZ5juSsw/AAAAAAAAAAI/AAAAAAAAAE0/oAG9KjfgDXM/s50-c-k-no/photo.jpg",
      "userId": "111402449243368750827"
     },
     "user_tz": -240
    },
    "id": "Hc2sdmSG5qha",
    "outputId": "9648bdc4-73d9-4213-9137-b6c1cf772f42"
   },
   "source": [
    "```\n",
    "mkdir ./data\n",
    "wget https://s3-us-west-2.amazonaws.com/lenta-news-dataset/news_lenta.csv -O ./data/lenta_data.csv\n",
    "```"
   ]
  },
  {
   "cell_type": "code",
   "execution_count": null,
   "metadata": {
    "colab": {
     "autoexec": {
      "startup": false,
      "wait_interval": 0
     },
     "base_uri": "https://localhost:8080/",
     "height": 68
    },
    "colab_type": "code",
    "executionInfo": {
     "elapsed": 607,
     "status": "ok",
     "timestamp": 1531742745397,
     "user": {
      "displayName": "Anton Mushin",
      "photoUrl": "//lh4.googleusercontent.com/-CFqPZ5juSsw/AAAAAAAAAAI/AAAAAAAAAE0/oAG9KjfgDXM/s50-c-k-no/photo.jpg",
      "userId": "111402449243368750827"
     },
     "user_tz": -240
    },
    "id": "XLkbqWuh5cgu",
    "outputId": "53029908-f3d2-437f-d865-c160664e0c9e"
   },
   "outputs": [],
   "source": [
    "import nltk\n",
    "nltk.download('stopwords')\n"
   ]
  },
  {
   "cell_type": "markdown",
   "metadata": {},
   "source": [
    "------------"
   ]
  },
  {
   "cell_type": "markdown",
   "metadata": {},
   "source": [
    "## Пример использования токенайзера"
   ]
  },
  {
   "cell_type": "code",
   "execution_count": 1,
   "metadata": {
    "colab": {
     "autoexec": {
      "startup": false,
      "wait_interval": 0
     }
    },
    "colab_type": "code",
    "id": "CLaCPC-M5cg8"
   },
   "outputs": [],
   "source": [
    "import pandas as pd\n",
    "import numpy as np # linear algebra\n",
    "import seaborn as sns\n",
    "import matplotlib.pyplot as plt\n",
    "import string\n",
    "from tqdm import tqdm_notebook as tqdm\n",
    "from sklearn.base import TransformerMixin\n",
    "from sklearn.feature_extraction.text import CountVectorizer\n",
    "from sklearn.pipeline import Pipeline\n",
    "from sklearn.svm import LinearSVC\n",
    "from sklearn import metrics\n",
    "from collections import Counter\n",
    "from nltk.corpus import stopwords\n",
    "from spacy.symbols import PRON\n",
    "from ru2 import Russian2\n",
    "from sklearn.model_selection import train_test_split\n",
    "stopwords = stopwords.words('russian')"
   ]
  },
  {
   "cell_type": "code",
   "execution_count": 2,
   "metadata": {
    "colab": {
     "autoexec": {
      "startup": false,
      "wait_interval": 0
     },
     "base_uri": "https://localhost:8080/",
     "height": 204
    },
    "colab_type": "code",
    "executionInfo": {
     "elapsed": 26393,
     "status": "ok",
     "timestamp": 1531742781962,
     "user": {
      "displayName": "Anton Mushin",
      "photoUrl": "//lh4.googleusercontent.com/-CFqPZ5juSsw/AAAAAAAAAAI/AAAAAAAAAE0/oAG9KjfgDXM/s50-c-k-no/photo.jpg",
      "userId": "111402449243368750827"
     },
     "user_tz": -240
    },
    "id": "FB1NVylq5cg_",
    "outputId": "abd4de07-9531-4773-b57f-f355d0c23f14"
   },
   "outputs": [
    {
     "data": {
      "text/html": [
       "<div>\n",
       "<style>\n",
       "    .dataframe thead tr:only-child th {\n",
       "        text-align: right;\n",
       "    }\n",
       "\n",
       "    .dataframe thead th {\n",
       "        text-align: left;\n",
       "    }\n",
       "\n",
       "    .dataframe tbody tr th {\n",
       "        vertical-align: top;\n",
       "    }\n",
       "</style>\n",
       "<table border=\"1\" class=\"dataframe\">\n",
       "  <thead>\n",
       "    <tr style=\"text-align: right;\">\n",
       "      <th></th>\n",
       "      <th>tags</th>\n",
       "      <th>text</th>\n",
       "      <th>title</th>\n",
       "      <th>topic</th>\n",
       "      <th>url</th>\n",
       "    </tr>\n",
       "  </thead>\n",
       "  <tbody>\n",
       "    <tr>\n",
       "      <th>0</th>\n",
       "      <td>Общество</td>\n",
       "      <td>Миллиардер Илон Маск в резкой форме ответил бр...</td>\n",
       "      <td>Илон Маск назвал педофилом спасавшего детей из...</td>\n",
       "      <td>Мир</td>\n",
       "      <td>https://lenta.ru/news/2018/07/16/su57/</td>\n",
       "    </tr>\n",
       "    <tr>\n",
       "      <th>1</th>\n",
       "      <td>Рынки</td>\n",
       "      <td>США и их западные союзники рассматривают возмо...</td>\n",
       "      <td>США задумались о распечатывании нефтяного резерва</td>\n",
       "      <td>Экономика</td>\n",
       "      <td>https://lenta.ru/news/2018/07/16/foes/</td>\n",
       "    </tr>\n",
       "    <tr>\n",
       "      <th>2</th>\n",
       "      <td>Преступность</td>\n",
       "      <td>Празднование победы сборной Франции на чемпион...</td>\n",
       "      <td>Празднование победы на ЧМ во Франции закончило...</td>\n",
       "      <td>Мир</td>\n",
       "      <td>https://lenta.ru/news/2018/07/15/fra_bezumie/</td>\n",
       "    </tr>\n",
       "    <tr>\n",
       "      <th>3</th>\n",
       "      <td>Политика</td>\n",
       "      <td>География использования лимузинов проекта «Кор...</td>\n",
       "      <td>Песков рассказал о планах на президентские лим...</td>\n",
       "      <td>Россия</td>\n",
       "      <td>https://lenta.ru/news/2018/07/16/delo_shyut/</td>\n",
       "    </tr>\n",
       "    <tr>\n",
       "      <th>4</th>\n",
       "      <td>Музыка</td>\n",
       "      <td>Американская поп-певица Бритни Спирс случайно ...</td>\n",
       "      <td>Грудь Бритни Спирс вновь выскочила из лифчика ...</td>\n",
       "      <td>Культура</td>\n",
       "      <td>https://lenta.ru/news/2018/07/16/pedomusk/</td>\n",
       "    </tr>\n",
       "  </tbody>\n",
       "</table>\n",
       "</div>"
      ],
      "text/plain": [
       "           tags                                               text  \\\n",
       "0      Общество  Миллиардер Илон Маск в резкой форме ответил бр...   \n",
       "1         Рынки  США и их западные союзники рассматривают возмо...   \n",
       "2  Преступность  Празднование победы сборной Франции на чемпион...   \n",
       "3      Политика  География использования лимузинов проекта «Кор...   \n",
       "4        Музыка  Американская поп-певица Бритни Спирс случайно ...   \n",
       "\n",
       "                                               title      topic  \\\n",
       "0  Илон Маск назвал педофилом спасавшего детей из...        Мир   \n",
       "1  США задумались о распечатывании нефтяного резерва  Экономика   \n",
       "2  Празднование победы на ЧМ во Франции закончило...        Мир   \n",
       "3  Песков рассказал о планах на президентские лим...     Россия   \n",
       "4  Грудь Бритни Спирс вновь выскочила из лифчика ...   Культура   \n",
       "\n",
       "                                             url  \n",
       "0         https://lenta.ru/news/2018/07/16/su57/  \n",
       "1         https://lenta.ru/news/2018/07/16/foes/  \n",
       "2  https://lenta.ru/news/2018/07/15/fra_bezumie/  \n",
       "3   https://lenta.ru/news/2018/07/16/delo_shyut/  \n",
       "4     https://lenta.ru/news/2018/07/16/pedomusk/  "
      ]
     },
     "execution_count": 2,
     "metadata": {},
     "output_type": "execute_result"
    }
   ],
   "source": [
    "df = pd.read_csv('./data/lenta_data.csv')\n",
    "df.head()"
   ]
  },
  {
   "cell_type": "code",
   "execution_count": 3,
   "metadata": {},
   "outputs": [
    {
     "data": {
      "text/html": [
       "<div>\n",
       "<style>\n",
       "    .dataframe thead tr:only-child th {\n",
       "        text-align: right;\n",
       "    }\n",
       "\n",
       "    .dataframe thead th {\n",
       "        text-align: left;\n",
       "    }\n",
       "\n",
       "    .dataframe tbody tr th {\n",
       "        vertical-align: top;\n",
       "    }\n",
       "</style>\n",
       "<table border=\"1\" class=\"dataframe\">\n",
       "  <thead>\n",
       "    <tr style=\"text-align: right;\">\n",
       "      <th></th>\n",
       "      <th>title</th>\n",
       "      <th>topic</th>\n",
       "    </tr>\n",
       "  </thead>\n",
       "  <tbody>\n",
       "    <tr>\n",
       "      <th>699741</th>\n",
       "      <td>Леворадикалы создают предвыборный блок</td>\n",
       "      <td>Россия</td>\n",
       "    </tr>\n",
       "    <tr>\n",
       "      <th>699742</th>\n",
       "      <td>Литва засудила участников переворота 91 года</td>\n",
       "      <td>Мир</td>\n",
       "    </tr>\n",
       "    <tr>\n",
       "      <th>699743</th>\n",
       "      <td>Коржаков готов рассказать Генпрокуратуре про ф...</td>\n",
       "      <td>Россия</td>\n",
       "    </tr>\n",
       "    <tr>\n",
       "      <th>699744</th>\n",
       "      <td>Еще одно землетрясение в Турции: один человек ...</td>\n",
       "      <td>Мир</td>\n",
       "    </tr>\n",
       "    <tr>\n",
       "      <th>699745</th>\n",
       "      <td>Киргизия ведет бои на границах с Таджикистаном...</td>\n",
       "      <td>Мир</td>\n",
       "    </tr>\n",
       "  </tbody>\n",
       "</table>\n",
       "</div>"
      ],
      "text/plain": [
       "                                                    title   topic\n",
       "699741             Леворадикалы создают предвыборный блок  Россия\n",
       "699742       Литва засудила участников переворота 91 года     Мир\n",
       "699743  Коржаков готов рассказать Генпрокуратуре про ф...  Россия\n",
       "699744  Еще одно землетрясение в Турции: один человек ...     Мир\n",
       "699745  Киргизия ведет бои на границах с Таджикистаном...     Мир"
      ]
     },
     "execution_count": 3,
     "metadata": {},
     "output_type": "execute_result"
    }
   ],
   "source": [
    "df = df[['title','topic']]\n",
    "df.tail()"
   ]
  },
  {
   "cell_type": "code",
   "execution_count": 4,
   "metadata": {},
   "outputs": [
    {
     "data": {
      "text/plain": [
       "topic\n",
       "Россия               158072\n",
       "Мир                  134334\n",
       "Экономика             77673\n",
       "Спорт                 62463\n",
       "Культура              52600\n",
       "Бывший СССР           52018\n",
       "Наука и техника       51869\n",
       "Интернет и СМИ        43313\n",
       "Из жизни              26356\n",
       "Силовые структуры     18480\n",
       "Бизнес                 7398\n",
       "Ценности               6832\n",
       "Путешествия            6045\n",
       "69-я параллель         1095\n",
       "Крым                    666\n",
       "Культпросвет            340\n",
       "Легпром                 114\n",
       "Библиотека               65\n",
       "Дом                       6\n",
       "Оружие                    3\n",
       "ЧМ-2014                   2\n",
       "Сочи                      1\n",
       "МедНовости                1\n",
       "Name: title, dtype: int64"
      ]
     },
     "execution_count": 4,
     "metadata": {},
     "output_type": "execute_result"
    }
   ],
   "source": [
    "df.groupby('topic',group_keys=False)['title'].count().sort_values(ascending=False)"
   ]
  },
  {
   "cell_type": "markdown",
   "metadata": {},
   "source": [
    "Будем работать с двумя топиками: Россия и Мир"
   ]
  },
  {
   "cell_type": "code",
   "execution_count": 5,
   "metadata": {},
   "outputs": [],
   "source": [
    "df=df[df['topic'].isin(['Россия','Мир'])]"
   ]
  },
  {
   "cell_type": "code",
   "execution_count": 6,
   "metadata": {
    "colab": {
     "autoexec": {
      "startup": false,
      "wait_interval": 0
     }
    },
    "colab_type": "code",
    "id": "zqKiIsNR5chF"
   },
   "outputs": [
    {
     "name": "stdout",
     "output_type": "stream",
     "text": [
      "Размерность данных для тренировки: (195912, 2)\n",
      "Размерность данных для тестирования: (96494, 2)\n"
     ]
    }
   ],
   "source": [
    "train, test = train_test_split(df, test_size=0.33, random_state=42)\n",
    "print('Размерность данных для тренировки:', train.shape)\n",
    "print('Размерность данных для тестирования:', test.shape)\n"
   ]
  },
  {
   "cell_type": "code",
   "execution_count": 7,
   "metadata": {
    "colab": {
     "autoexec": {
      "startup": false,
      "wait_interval": 0
     }
    },
    "colab_type": "code",
    "id": "VC-rUqhO5chI"
   },
   "outputs": [],
   "source": [
    "punctuations = string.punctuation\n",
    "nlp = Russian2()\n",
    "nlp.add_pipe(nlp.create_pipe('sentencizer'))\n",
    "\n",
    "def cleanup_text(docs, logging=False):\n",
    "    '''\n",
    "    Define function to cleanup text by removing personal pronouns, stopwords, and puncuation\n",
    "    '''\n",
    "    texts = []\n",
    "    for doc in tqdm(docs):\n",
    "        doc = nlp(doc)\n",
    "        tokens = [tok.lemma_.lower().strip() for tok in doc if tok.lemma_ != PRON]\n",
    "        tokens = [tok for tok in tokens if tok not in stopwords and tok not in punctuations]\n",
    "        tokens = ' '.join(tokens)\n",
    "        texts.append(tokens)\n",
    "    return pd.Series(texts)"
   ]
  },
  {
   "cell_type": "code",
   "execution_count": 8,
   "metadata": {},
   "outputs": [],
   "source": [
    "ru_text = [text for text in train[train['topic'] == 'Россия']['title']]\n",
    "world_text = [text for text in train[train['topic'] == 'Мир']['title']]\n"
   ]
  },
  {
   "cell_type": "code",
   "execution_count": 9,
   "metadata": {
    "colab": {
     "autoexec": {
      "startup": false,
      "wait_interval": 0
     }
    },
    "colab_type": "code",
    "id": "9_dvNNH25chM"
   },
   "outputs": [
    {
     "data": {
      "application/vnd.jupyter.widget-view+json": {
       "model_id": "9f3209723145456997b480c1021a7678",
       "version_major": 2,
       "version_minor": 0
      },
      "text/html": [
       "<p>Failed to display Jupyter Widget of type <code>HBox</code>.</p>\n",
       "<p>\n",
       "  If you're reading this message in Jupyter Notebook or JupyterLab, it may mean\n",
       "  that the widgets JavaScript is still loading. If this message persists, it\n",
       "  likely means that the widgets JavaScript library is either not installed or\n",
       "  not enabled. See the <a href=\"https://ipywidgets.readthedocs.io/en/stable/user_install.html\">Jupyter\n",
       "  Widgets Documentation</a> for setup instructions.\n",
       "</p>\n",
       "<p>\n",
       "  If you're reading this message in another notebook frontend (for example, a static\n",
       "  rendering on GitHub or <a href=\"https://nbviewer.jupyter.org/\">NBViewer</a>),\n",
       "  it may mean that your frontend doesn't currently support widgets.\n",
       "</p>\n"
      ],
      "text/plain": [
       "HBox(children=(IntProgress(value=0, max=105927), HTML(value='')))"
      ]
     },
     "metadata": {},
     "output_type": "display_data"
    },
    {
     "name": "stdout",
     "output_type": "stream",
     "text": [
      "\n"
     ]
    },
    {
     "data": {
      "application/vnd.jupyter.widget-view+json": {
       "model_id": "e2069e3772584c828cb52f72b914d73e",
       "version_major": 2,
       "version_minor": 0
      },
      "text/html": [
       "<p>Failed to display Jupyter Widget of type <code>HBox</code>.</p>\n",
       "<p>\n",
       "  If you're reading this message in Jupyter Notebook or JupyterLab, it may mean\n",
       "  that the widgets JavaScript is still loading. If this message persists, it\n",
       "  likely means that the widgets JavaScript library is either not installed or\n",
       "  not enabled. See the <a href=\"https://ipywidgets.readthedocs.io/en/stable/user_install.html\">Jupyter\n",
       "  Widgets Documentation</a> for setup instructions.\n",
       "</p>\n",
       "<p>\n",
       "  If you're reading this message in another notebook frontend (for example, a static\n",
       "  rendering on GitHub or <a href=\"https://nbviewer.jupyter.org/\">NBViewer</a>),\n",
       "  it may mean that your frontend doesn't currently support widgets.\n",
       "</p>\n"
      ],
      "text/plain": [
       "HBox(children=(IntProgress(value=0, max=89985), HTML(value='')))"
      ]
     },
     "metadata": {},
     "output_type": "display_data"
    },
    {
     "name": "stdout",
     "output_type": "stream",
     "text": [
      "\n"
     ]
    }
   ],
   "source": [
    "ru_clean = cleanup_text(ru_text)\n",
    "ru_clean = ' '.join(ru_clean).split()\n",
    "\n",
    "world_clean = cleanup_text(world_text)\n",
    "world_clean = ' '.join(world_clean).split()\n",
    "\n"
   ]
  },
  {
   "cell_type": "code",
   "execution_count": 10,
   "metadata": {},
   "outputs": [],
   "source": [
    "ru_counts = Counter(ru_clean)\n",
    "world_counts = Counter(world_clean)\n",
    "\n",
    "ru_common_words = [word[0] for word in ru_counts.most_common(20)]\n",
    "ru_common_counts = [word[1] for word in ru_counts.most_common(20)]\n",
    "\n",
    "world_common_words = [word[0] for word in world_counts.most_common(20)]\n",
    "world_common_counts = [word[1] for word in world_counts.most_common(20)]"
   ]
  },
  {
   "cell_type": "code",
   "execution_count": 11,
   "metadata": {},
   "outputs": [],
   "source": [
    "def plot_top(common_word,common_counts,name):\n",
    "    fig = plt.figure(figsize=(18,6))\n",
    "    sns.barplot(x=common_word, y=common_counts)\n",
    "    plt.title('Наиболее распространенные слова, используемые в текстах по теме %s' % name)\n",
    "    plt.show();"
   ]
  },
  {
   "cell_type": "code",
   "execution_count": 12,
   "metadata": {
    "colab": {
     "autoexec": {
      "startup": false,
      "wait_interval": 0
     }
    },
    "colab_type": "code",
    "id": "tTdSq5-W5chP"
   },
   "outputs": [
    {
     "data": {
      "image/png": "[encoded data removed]",
      "text/plain": [
       "<matplotlib.figure.Figure at 0x414b83c8>"
      ]
     },
     "metadata": {},
     "output_type": "display_data"
    }
   ],
   "source": [
    "plot_top(ru_common_words,ru_common_counts, 'Россия')"
   ]
  },
  {
   "cell_type": "code",
   "execution_count": 13,
   "metadata": {
    "colab": {
     "autoexec": {
      "startup": false,
      "wait_interval": 0
     }
    },
    "colab_type": "code",
    "id": "-XPbxzCR5chS"
   },
   "outputs": [
    {
     "data": {
      "image/png": "[encoded data removed]",
      "text/plain": [
       "<matplotlib.figure.Figure at 0x414b8390>"
      ]
     },
     "metadata": {},
     "output_type": "display_data"
    }
   ],
   "source": [
    "plot_top(world_common_words, world_common_counts, 'Мир')"
   ]
  },
  {
   "cell_type": "code",
   "execution_count": 14,
   "metadata": {},
   "outputs": [],
   "source": [
    "STOPLIST = set(stopwords)\n",
    "SYMBOLS = \" \".join(string.punctuation).split(\" \") + [\"-\", \"...\", \"”\", \"”\",\"«\",\"»\"]\n",
    "\n",
    "class CleanTextTransformer(TransformerMixin):\n",
    "    \n",
    "    def transform(self, X, **transform_params):\n",
    "        return [cleanText(text) for text in X]\n",
    "    \n",
    "    def fit(self, X, y=None, **fit_params):\n",
    "        return self\n",
    "    \n",
    "    def get_params(self, deep=True):\n",
    "        return {}\n",
    "    \n",
    "def cleanText(text):\n",
    "    text = text.strip().replace(\"\\n\", \" \").replace(\"\\r\", \" \")\n",
    "    text = text.lower()\n",
    "    return text\n",
    "\n",
    "def tokenizeText(sample):\n",
    "    tokens = nlp(sample)\n",
    "    lemmas = []\n",
    "    for tok in tokens:\n",
    "        lemmas.append(tok.lemma_.lower().strip() if tok.lemma_ != PRON else tok.lower_)\n",
    "    tokens = lemmas\n",
    "    tokens = [tok for tok in tokens if tok not in STOPLIST]\n",
    "    tokens = [tok for tok in tokens if tok not in SYMBOLS]\n",
    "    return tokens\n",
    "\n",
    "def printNMostInformative(vectorizer, clf, N):\n",
    "    feature_names = vectorizer.get_feature_names()\n",
    "    coefs_with_fns = sorted(zip(clf.coef_[0], feature_names))\n",
    "    topClass1 = coefs_with_fns[:N]\n",
    "    topClass2 = coefs_with_fns[:-(N + 1):-1]\n",
    "    print(\"Class 1 best: \")\n",
    "    for feat in topClass1:\n",
    "        print(feat)\n",
    "    print(\"Class 2 best: \")\n",
    "    for feat in topClass2:\n",
    "        print(feat)"
   ]
  },
  {
   "cell_type": "code",
   "execution_count": 15,
   "metadata": {},
   "outputs": [],
   "source": [
    "vectorizer = CountVectorizer(tokenizer=tokenizeText, ngram_range=(1,1))\n",
    "clf = LinearSVC()\n",
    "\n",
    "pipe = Pipeline([('cleanText', CleanTextTransformer()), ('vectorizer', vectorizer), ('clf', clf)])"
   ]
  },
  {
   "cell_type": "code",
   "execution_count": 16,
   "metadata": {},
   "outputs": [
    {
     "name": "stdout",
     "output_type": "stream",
     "text": [
      "Wall time: 12min 46s\n"
     ]
    }
   ],
   "source": [
    "%%time\n",
    "# data\n",
    "train1 = train['title'].tolist()\n",
    "labelsTrain1 = train['topic'].tolist()\n",
    "test1 = test['title'].tolist()\n",
    "labelsTest1 = test['topic'].tolist()\n",
    "\n",
    "# train\n",
    "pipe.fit(train1, labelsTrain1)\n"
   ]
  },
  {
   "cell_type": "code",
   "execution_count": 17,
   "metadata": {},
   "outputs": [
    {
     "name": "stdout",
     "output_type": "stream",
     "text": [
      "accuracy: 0.895154102846\n",
      "Top 10 features used to predict: \n",
      "Class 1 best: \n",
      "(-2.5095398159170621, 'консульских')\n",
      "(-2.3684792630329476, 'бесчинство')\n",
      "(-2.2109430074924323, 'полминуты')\n",
      "(-2.09031782274714, 'неправовым')\n",
      "(-1.9919354757053154, 'плетень')\n",
      "(-1.9736603793207654, 'приглушить')\n",
      "(-1.96848855919794, 'севшем')\n",
      "(-1.9611794665358313, 'джонсон')\n",
      "(-1.9577204314163934, 'гонконгские')\n",
      "(-1.9482270063177698, 'усков')\n",
      "Class 2 best: \n",
      "(2.8550217610255726, 'совфеде')\n",
      "(2.607849966224538, 'нарышкин')\n",
      "(2.5767147972617392, 'отступиться')\n",
      "(2.3377303295728664, 'пушок')\n",
      "(2.2242459959027769, 'рузской')\n",
      "(2.220259928395012, 'клинц')\n",
      "(2.2077862043982655, 'косачев')\n",
      "(2.1336018583309913, 'расклад')\n",
      "(2.0919791374252759, 'тень')\n",
      "(2.0804664538076914, 'проживший')\n",
      "Wall time: 18min 57s\n"
     ]
    }
   ],
   "source": [
    "%%time\n",
    "\n",
    "# test\n",
    "preds = pipe.predict(test1)\n",
    "print(\"accuracy:\", metrics.accuracy_score(labelsTest1, preds))\n",
    "print(\"Top 10 features used to predict: \")\n",
    "printNMostInformative(vectorizer, clf, 10)\n",
    "\n",
    "pipe = Pipeline([('cleanText', CleanTextTransformer()), ('vectorizer', vectorizer)])\n",
    "transform = pipe.fit_transform(train1, labelsTrain1)\n",
    "\n",
    "vocab = vectorizer.get_feature_names()\n",
    "for i in range(len(train1)):\n",
    "    s = \"\"\n",
    "    indexIntoVocab = transform.indices[transform.indptr[i]:transform.indptr[i+1]]\n",
    "    numOccurences = transform.data[transform.indptr[i]:transform.indptr[i+1]]\n",
    "    for idx, num in zip(indexIntoVocab, numOccurences):\n",
    "        s += str((vocab[idx], num))"
   ]
  },
  {
   "cell_type": "code",
   "execution_count": 18,
   "metadata": {},
   "outputs": [
    {
     "name": "stdout",
     "output_type": "stream",
     "text": [
      "             precision    recall  f1-score   support\n",
      "\n",
      "        Мир       0.88      0.89      0.89     44349\n",
      "     Россия       0.91      0.90      0.90     52145\n",
      "\n",
      "avg / total       0.90      0.90      0.90     96494\n",
      "\n"
     ]
    }
   ],
   "source": [
    "print(metrics.classification_report(labelsTest1, preds, target_names=df['topic'].unique()))"
   ]
  }
 ],
 "metadata": {
  "colab": {
   "collapsed_sections": [],
   "default_view": {},
   "name": "text_classification.ipynb",
   "provenance": [],
   "version": "0.3.2",
   "views": {}
  },
  "hide_input": false,
  "kernelspec": {
   "display_name": "Python 3",
   "language": "python",
   "name": "python3"
  },
  "language_info": {
   "codemirror_mode": {
    "name": "ipython",
    "version": 3
   },
   "file_extension": ".py",
   "mimetype": "text/x-python",
   "name": "python",
   "nbconvert_exporter": "python",
   "pygments_lexer": "ipython3",
   "version": "3.6.1"
  }
 },
 "nbformat": 4,
 "nbformat_minor": 1
}
