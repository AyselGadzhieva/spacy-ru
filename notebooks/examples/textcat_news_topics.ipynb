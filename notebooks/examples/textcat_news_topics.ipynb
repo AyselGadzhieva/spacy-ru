{
 "cells": [
  {
   "cell_type": "code",
   "execution_count": 1,
   "metadata": {},
   "outputs": [
    {
     "data": {
      "text/html": [
       "<style>.container { width:100% !important; }</style>"
      ],
      "text/plain": [
       "<IPython.core.display.HTML object>"
      ]
     },
     "metadata": {},
     "output_type": "display_data"
    }
   ],
   "source": [
    "from IPython.core.display import display, HTML\n",
    "display(HTML(\"<style>.container { width:100% !important; }</style>\"))"
   ]
  },
  {
   "cell_type": "code",
   "execution_count": 2,
   "metadata": {},
   "outputs": [
    {
     "data": {
      "text/plain": [
       "True"
      ]
     },
     "execution_count": 2,
     "metadata": {},
     "output_type": "execute_result"
    }
   ],
   "source": [
    "import spacy\n",
    "spacy.require_gpu()"
   ]
  },
  {
   "cell_type": "code",
   "execution_count": 3,
   "metadata": {},
   "outputs": [],
   "source": [
    "from vec.vec import get_t2v\n",
    "\n",
    "CFG = {'device': 0, 'cpu_count': 4}"
   ]
  },
  {
   "cell_type": "code",
   "execution_count": 4,
   "metadata": {},
   "outputs": [],
   "source": [
    "import spacy\n",
    "nlp = spacy.load('../../ru2')"
   ]
  },
  {
   "cell_type": "code",
   "execution_count": 5,
   "metadata": {},
   "outputs": [
    {
     "data": {
      "text/plain": [
       "LentaRecord(\n",
       "    url='https://lenta.ru/news/2018/12/14/cancer/',\n",
       "    title='Названы регионы России с\\xa0самой высокой смертностью от\\xa0рака',\n",
       "    text='Вице-премьер по социальным вопросам Татьяна Голикова рассказала, в каких регионах России зафиксирована наиболее высокая смертность от рака, сообщает РИА Новости. По словам Голиковой, чаще всего онкологические заболевания становились причиной смерти в Псковской, Тверской, Тульской и Орловской областях, а также в Севастополе. Вице-премьер напомнила, что главные факторы смертности в России — рак и болезни системы кровообращения. В начале года стало известно, что смертность от онкологических заболеваний среди россиян снизилась впервые за три года. По данным Росстата, в 2017 году от рака умерли 289 тысяч человек. Это на 3,5 процента меньше, чем годом ранее.',\n",
       "    topic='Россия',\n",
       "    tags='Общество'\n",
       ")"
      ]
     },
     "execution_count": 5,
     "metadata": {},
     "output_type": "execute_result"
    }
   ],
   "source": [
    "from corus import load_lenta\n",
    "path = '../../data/lenta-ru-news.csv.gz'\n",
    "records = load_lenta(path)\n",
    "record0 = next(records)\n",
    "record0"
   ]
  },
  {
   "cell_type": "code",
   "execution_count": 6,
   "metadata": {},
   "outputs": [
    {
     "data": {
      "text/plain": [
       "[('tagger', <spacy.pipeline.pipes.Tagger at 0x7f84550b19e8>),\n",
       " ('parser', <spacy.pipeline.pipes.DependencyParser at 0x7f8454ff6108>),\n",
       " ('ner', <spacy.pipeline.pipes.EntityRecognizer at 0x7f8454ff6168>)]"
      ]
     },
     "execution_count": 6,
     "metadata": {},
     "output_type": "execute_result"
    }
   ],
   "source": [
    "nlp.pipeline"
   ]
  },
  {
   "cell_type": "code",
   "execution_count": 7,
   "metadata": {},
   "outputs": [],
   "source": [
    "# import explacy\n",
    "# explacy.print_parse_info(nlp, record0.title)"
   ]
  },
  {
   "cell_type": "code",
   "execution_count": 8,
   "metadata": {},
   "outputs": [],
   "source": [
    "import pandas\n",
    "pandas.set_option('max_colwidth', 200)\n",
    "from tqdm.notebook import tqdm as tq"
   ]
  },
  {
   "cell_type": "code",
   "execution_count": 9,
   "metadata": {},
   "outputs": [
    {
     "data": {
      "application/vnd.jupyter.widget-view+json": {
       "model_id": "827ff3f1545843f7befa140d8d13d747",
       "version_major": 2,
       "version_minor": 0
      },
      "text/plain": [
       "HBox(children=(FloatProgress(value=0.0, max=25000.0), HTML(value='')))"
      ]
     },
     "metadata": {},
     "output_type": "display_data"
    },
    {
     "name": "stdout",
     "output_type": "stream",
     "text": [
      "25000\n"
     ]
    },
    {
     "data": {
      "text/html": [
       "<div>\n",
       "<style scoped>\n",
       "    .dataframe tbody tr th:only-of-type {\n",
       "        vertical-align: middle;\n",
       "    }\n",
       "\n",
       "    .dataframe tbody tr th {\n",
       "        vertical-align: top;\n",
       "    }\n",
       "\n",
       "    .dataframe thead th {\n",
       "        text-align: right;\n",
       "    }\n",
       "</style>\n",
       "<table border=\"1\" class=\"dataframe\">\n",
       "  <thead>\n",
       "    <tr style=\"text-align: right;\">\n",
       "      <th></th>\n",
       "      <th>title</th>\n",
       "      <th>topic</th>\n",
       "    </tr>\n",
       "  </thead>\n",
       "  <tbody>\n",
       "    <tr>\n",
       "      <th>0</th>\n",
       "      <td>Названы регионы России с самой высокой смертностью от рака</td>\n",
       "      <td>Россия</td>\n",
       "    </tr>\n",
       "    <tr>\n",
       "      <th>1</th>\n",
       "      <td>Австрия не представила доказательств вины российских биатлонистов</td>\n",
       "      <td>Спорт</td>\n",
       "    </tr>\n",
       "    <tr>\n",
       "      <th>2</th>\n",
       "      <td>Обнаружено самое счастливое место на планете</td>\n",
       "      <td>Путешествия</td>\n",
       "    </tr>\n",
       "    <tr>\n",
       "      <th>3</th>\n",
       "      <td>В США раскрыли сумму расходов на расследование «российского дела»</td>\n",
       "      <td>Мир</td>\n",
       "    </tr>\n",
       "    <tr>\n",
       "      <th>4</th>\n",
       "      <td>Хакеры рассказали о планах Великобритании заминировать Севастополь</td>\n",
       "      <td>Мир</td>\n",
       "    </tr>\n",
       "  </tbody>\n",
       "</table>\n",
       "</div>"
      ],
      "text/plain": [
       "                                                                title  \\\n",
       "0          Названы регионы России с самой высокой смертностью от рака   \n",
       "1   Австрия не представила доказательств вины российских биатлонистов   \n",
       "2                        Обнаружено самое счастливое место на планете   \n",
       "3   В США раскрыли сумму расходов на расследование «российского дела»   \n",
       "4  Хакеры рассказали о планах Великобритании заминировать Севастополь   \n",
       "\n",
       "         topic  \n",
       "0       Россия  \n",
       "1        Спорт  \n",
       "2  Путешествия  \n",
       "3          Мир  \n",
       "4          Мир  "
      ]
     },
     "execution_count": 9,
     "metadata": {},
     "output_type": "execute_result"
    }
   ],
   "source": [
    "records = load_lenta(path)\n",
    "# overfitting and underfitting\n",
    "# splitting the dataset. how many examples to take for a test?\n",
    "dataset = []\n",
    "for i, r in tq(enumerate(records), total=25000):\n",
    "    if not r.topic:\n",
    "        # есть примеры в датасете, где нет категории\n",
    "        continue\n",
    "    dataset.append((r.title, r.topic))\n",
    "    if len(dataset) >= 25000:\n",
    "        break\n",
    "df = pandas.DataFrame(dataset, columns=['title', 'topic'])\n",
    "print(len(df))\n",
    "df.head(5)"
   ]
  },
  {
   "cell_type": "code",
   "execution_count": 10,
   "metadata": {},
   "outputs": [
    {
     "name": "stdout",
     "output_type": "stream",
     "text": [
      "20000 2500 2500\n"
     ]
    },
    {
     "data": {
      "text/plain": [
       "[('В России закрыли чемпионат мира по\\xa0футболу', 'Спорт'),\n",
       " ('Назначенный Орешкиным неизвестный таджик обрел миссию', 'Экономика'),\n",
       " ('В Киеве массово лопнули трубы после подачи горячей воды', 'Бывший СССР'),\n",
       " ('Россиянин избежал тюрьмы за\\xa0убийство оскорбившей его девушки', 'Россия'),\n",
       " ('Умер режиссер «Чегемского детектива» Александр Светлов', 'Культура')]"
      ]
     },
     "metadata": {},
     "output_type": "display_data"
    },
    {
     "data": {
      "text/plain": [
       "[('Телеведущей отказали в\\xa0работе из-за «недостаточно большой груди»',\n",
       "  'Интернет и СМИ'),\n",
       " ('Шарапова ответила на\\xa0отказ Серены Уильямс играть против нее', 'Спорт'),\n",
       " ('Bvlgari представил новые вариации на\\xa0змеиную тему', 'Ценности'),\n",
       " ('Найден новый способ победить особо опасный рак', 'Наука и техника'),\n",
       " ('Анестезиолог изнасиловал россиянку под наркозом и\\xa0пошел под суд',\n",
       "  'Силовые структуры')]"
      ]
     },
     "metadata": {},
     "output_type": "display_data"
    }
   ],
   "source": [
    "#train, dev, test\n",
    "#20000, 2500, 2500 \n",
    "from sklearn.model_selection import train_test_split\n",
    "df_train, df_dev = train_test_split(dataset, test_size=2500, random_state=42)\n",
    "df_train, df_test = train_test_split(df_train, test_size=2500, random_state=42)\n",
    "print(len(df_train), len(df_dev), len(df_test))\n",
    "display(df_train[:5])\n",
    "display(df_dev[:5])"
   ]
  },
  {
   "cell_type": "code",
   "execution_count": 11,
   "metadata": {},
   "outputs": [
    {
     "name": "stdout",
     "output_type": "stream",
     "text": [
      "17 classes : ['69-я параллель', 'Бизнес', 'Бывший СССР', 'Дом', 'Из жизни', 'Интернет и СМИ', 'Крым', 'Культпросвет ', 'Культура', 'Мир', 'Наука и техника', 'Путешествия', 'Россия', 'Силовые структуры', 'Спорт', 'Ценности', 'Экономика']\n"
     ]
    }
   ],
   "source": [
    "classes = sorted(set([_[1] for _ in dataset]))\n",
    "print(len(classes), 'classes :', classes)"
   ]
  },
  {
   "cell_type": "code",
   "execution_count": 12,
   "metadata": {},
   "outputs": [],
   "source": [
    "from vec.vec import MyTextCategorizer"
   ]
  },
  {
   "cell_type": "code",
   "execution_count": 13,
   "metadata": {},
   "outputs": [
    {
     "data": {
      "text/plain": [
       "[('tagger', <spacy.pipeline.pipes.Tagger at 0x7f84550b19e8>),\n",
       " ('parser', <spacy.pipeline.pipes.DependencyParser at 0x7f8454ff6108>),\n",
       " ('ner', <spacy.pipeline.pipes.EntityRecognizer at 0x7f8454ff6168>),\n",
       " ('textcat', <vec.vec.MyTextCategorizer at 0x7f842ec84198>)]"
      ]
     },
     "execution_count": 13,
     "metadata": {},
     "output_type": "execute_result"
    }
   ],
   "source": [
    "if 'textcat' in nlp.pipe_names:\n",
    "    nlp.disable_pipes('textcat')\n",
    "\n",
    "textcat = MyTextCategorizer(nlp.vocab, **{\"exclusive_classes\": True, \"architecture\": \"simple_cnn\"})\n",
    "# textcat = nlp.create_pipe(\n",
    "#     \"textcat\", config={\"exclusive_classes\": True, \"architecture\": \"simple_cnn\"}\n",
    "# )\n",
    "# textcat = nlp.create_pipe(\n",
    "#     \"textcat\", config={\"exclusive_classes\": True}\n",
    "# )\n",
    "nlp.add_pipe(textcat, name='textcat')\n",
    "\n",
    "for c in classes:\n",
    "    textcat.add_label(c)\n",
    "\n",
    "nlp.pipeline"
   ]
  },
  {
   "cell_type": "code",
   "execution_count": 14,
   "metadata": {},
   "outputs": [],
   "source": [
    "import random\n",
    "from spacy.util import minibatch, compounding"
   ]
  },
  {
   "cell_type": "code",
   "execution_count": 15,
   "metadata": {},
   "outputs": [],
   "source": [
    "from tqdm.auto import tqdm"
   ]
  },
  {
   "cell_type": "code",
   "execution_count": 16,
   "metadata": {},
   "outputs": [],
   "source": [
    "from livelossplot import PlotLosses"
   ]
  },
  {
   "cell_type": "code",
   "execution_count": 17,
   "metadata": {},
   "outputs": [
    {
     "name": "stderr",
     "output_type": "stream",
     "text": [
      "/usr/lib/python3.6/runpy.py:193: UserWarning: [W022] Training a new part-of-speech tagger using a model with no lemmatization rules or data. This means that the trained model may not be able to lemmatize correctly. If this is intentional or the language you're using doesn't have lemmatization data, you can ignore this warning by setting SPACY_WARNING_IGNORE=W022. If this is surprising, make sure you have the spacy-lookups-data package installed.\n",
      "  \"__main__\", mod_spec)\n"
     ]
    },
    {
     "name": "stdout",
     "output_type": "stream",
     "text": [
      "Config: {'exclusive_classes': True, 'architecture': 'simple_cnn', 'labels': ('69-я параллель', 'Бизнес', 'Бывший СССР', 'Дом', 'Из жизни', 'Интернет и СМИ', 'Крым', 'Культпросвет ', 'Культура', 'Мир', 'Наука и техника', 'Путешествия', 'Россия', 'Силовые структуры', 'Спорт', 'Ценности', 'Экономика'), 'pretrained_vectors': None}\n",
      "\n"
     ]
    },
    {
     "data": {
      "application/vnd.jupyter.widget-view+json": {
       "model_id": "124b0d4d91e94e9881de59d40487350b",
       "version_major": 2,
       "version_minor": 0
      },
      "text/plain": [
       "HBox(children=(FloatProgress(value=0.0, max=2500.0), HTML(value='')))"
      ]
     },
     "metadata": {},
     "output_type": "display_data"
    },
    {
     "name": "stdout",
     "output_type": "stream",
     "text": [
      "text = Депутат Рады обвинил Украину в дискриминации крымчан\n",
      "score =  0 , gold = Бывший СССР , predicted = 69-я параллель , prob = 0.05882352963089943\n",
      "[('69-я параллель', 0.05882352963089943),\n",
      " ('Бизнес', 0.05882352963089943),\n",
      " ('Бывший СССР', 0.05882352963089943)]\n",
      "text = Режим ЧС введут в пострадавшем от химикатов крымском городе\n",
      "score =  0 , gold = Россия , predicted = 69-я параллель , prob = 0.05882352963089943\n",
      "[('69-я параллель', 0.05882352963089943),\n",
      " ('Бизнес', 0.05882352963089943),\n",
      " ('Бывший СССР', 0.05882352963089943)]\n",
      "\n"
     ]
    }
   ],
   "source": [
    "def evaluate(tokenizer, textcat, df, debug=None):\n",
    "    docs_iter = tqdm((tokenizer(x[0]) for x in df), total=len(df))\n",
    "    good = 0\n",
    "    total = 0\n",
    "    for doc, x in zip(textcat.pipe(docs_iter), df):\n",
    "        gold = x[1]\n",
    "        results = sorted(doc.cats.items(), key=lambda x: -x[1])\n",
    "        best_label, best_score = results[0]\n",
    "        if debug and debug in x[0]:\n",
    "            print('text =', x[0])\n",
    "            print('score = ', int(best_label == gold), ', gold =', gold, ', predicted =', best_label, ', prob =', best_score)\n",
    "            print(str(results[:3]).replace('),','),\\n'))\n",
    "        if best_label == gold:\n",
    "            good += 1\n",
    "        total += 1\n",
    "    return {\"accuracy\": good / total}\n",
    "\n",
    "if textcat.model is True:\n",
    "    nlp.begin_training(**CFG)\n",
    "losses = evaluate(nlp.tokenizer, textcat, df_dev, debug='крым')"
   ]
  },
  {
   "cell_type": "code",
   "execution_count": 18,
   "metadata": {},
   "outputs": [
    {
     "data": {
      "image/png": "[encoded data removed]",
      "text/plain": [
       "<Figure size 864x576 with 1 Axes>"
      ]
     },
     "metadata": {
      "needs_background": "light"
     },
     "output_type": "display_data"
    }
   ],
   "source": [
    "liveloss = PlotLosses(plot_extrema=False)\n",
    "liveloss.update({'val_'+k:v for k,v in losses.items()})\n",
    "liveloss.draw()"
   ]
  },
  {
   "cell_type": "code",
   "execution_count": 19,
   "metadata": {},
   "outputs": [],
   "source": [
    "def make_optimizer():\n",
    "    from thinc.neural.optimizers import Adam\n",
    "    from thinc.neural import Model\n",
    "\n",
    "    # optimizer options. Defaults are changed where commented\n",
    "    ops = Model.ops\n",
    "    learn_rate = 0.001\n",
    "    beta1 = 0.9\n",
    "    beta2 = 0.999\n",
    "    eps = 1e-9\n",
    "    L2 = 1e-7\n",
    "    max_grad_norm = 100.0\n",
    "    optimizer = Adam(ops, learn_rate, L2=L2, beta1=beta1, beta2=beta2, eps=eps)\n",
    "    optimizer.max_grad_norm = max_grad_norm\n",
    "    optimizer.device = ops.device\n",
    "    return optimizer"
   ]
  },
  {
   "cell_type": "code",
   "execution_count": 20,
   "metadata": {},
   "outputs": [],
   "source": [
    "import math"
   ]
  },
  {
   "cell_type": "code",
   "execution_count": 21,
   "metadata": {},
   "outputs": [
    {
     "data": {
      "image/png": "[encoded data removed]",
      "text/plain": [
       "<Figure size 1296x576 with 3 Axes>"
      ]
     },
     "metadata": {
      "needs_background": "light"
     },
     "output_type": "display_data"
    },
    {
     "name": "stdout",
     "output_type": "stream",
     "text": [
      "accuracy:\n",
      "training   (min:    0.690, max:    0.941, cur:    0.929)\n",
      "validation (min:    0.639, max:    0.777, cur:    0.768)\n",
      "\n",
      "batch_size:\n",
      "training   (min:   14.000, max:   32.000, cur:   32.000)\n",
      "\n",
      "textcat log loss:\n",
      "training   (min:   -1.983, max:    3.977, cur:   -1.978)\n"
     ]
    }
   ],
   "source": [
    "n_iter = 35\n",
    "\n",
    "liveloss = PlotLosses(skip_first=0, max_cols=3)\n",
    "\n",
    "other_pipes = [pipe for pipe in nlp.pipe_names if pipe != \"textcat\"]\n",
    "with nlp.disable_pipes(*other_pipes):  # only train textcat\n",
    "    print(\"Training:\", nlp.pipeline)\n",
    "    optimizer = nlp.begin_training(sgd=make_optimizer(), **CFG)\n",
    "    #print(\"{:^5}\\t{:^5}\".format(\"LOSS\", \"ACC\"))\n",
    "    batch_sizes = compounding(4.0, 32.0, 1.0005)\n",
    "    for i in range(n_iter): #tqdm(range(n_iter)):\n",
    "        max_batch_size = 0\n",
    "        losses = {}\n",
    "        random.shuffle(df_train)\n",
    "        batches = minibatch(tqdm(df_train, leave=False), size=batch_sizes)\n",
    "        print(\"Training...\")\n",
    "        for j, batch in enumerate(batches):\n",
    "            max_batch_size = max(max_batch_size, len(batch))\n",
    "            #texts, annotations = zip(*batch)\n",
    "            docs = []\n",
    "            golds = []\n",
    "            for text, gold_cat in batch:\n",
    "                docs.append(text)\n",
    "                golds.append({'cats': {c: gold_cat==c for c in classes}})\n",
    "            nlp.update(docs, golds, sgd=optimizer, drop=0.5, losses=losses)\n",
    "        all_losses = evaluate(nlp.tokenizer, textcat, df_train[::10])\n",
    "        all_losses.update({'batch_size': max_batch_size, 'textcat log loss': math.log(1e-10 + losses['textcat'])})\n",
    "        val_losses = evaluate(nlp.tokenizer, textcat, df_dev)\n",
    "        all_losses.update({'val_'+k: v for k,v in val_losses.items()})\n",
    "        liveloss.update(all_losses)\n",
    "        liveloss.draw()"
   ]
  },
  {
   "cell_type": "code",
   "execution_count": null,
   "metadata": {},
   "outputs": [],
   "source": []
  }
 ],
 "metadata": {
  "kernelspec": {
   "display_name": "Python 3",
   "language": "python",
   "name": "python3"
  },
  "language_info": {
   "codemirror_mode": {
    "name": "ipython",
    "version": 3
   },
   "file_extension": ".py",
   "mimetype": "text/x-python",
   "name": "python",
   "nbconvert_exporter": "python",
   "pygments_lexer": "ipython3",
   "version": "3.6.9"
  }
 },
 "nbformat": 4,
 "nbformat_minor": 4
}
